{
  "nbformat": 4,
  "nbformat_minor": 0,
  "metadata": {
    "colab": {
      "provenance": [],
      "authorship_tag": "ABX9TyM1N478zTwwOZwiM9lX39E5",
      "include_colab_link": true
    },
    "kernelspec": {
      "name": "python3",
      "display_name": "Python 3"
    },
    "language_info": {
      "name": "python"
    }
  },
  "cells": [
    {
      "cell_type": "markdown",
      "metadata": {
        "id": "view-in-github",
        "colab_type": "text"
      },
      "source": [
        "<a href=\"https://colab.research.google.com/github/poorna305/poorna305/blob/main/recomendation_analysis.ipynb\" target=\"_parent\"><img src=\"https://colab.research.google.com/assets/colab-badge.svg\" alt=\"Open In Colab\"/></a>"
      ]
    },
    {
      "cell_type": "code",
      "source": [
        "import pandas as pd\n",
        "\n",
        "# Sample product data\n",
        "data = {\n",
        "    'Product ID': [1, 2, 3, 4, 5],\n",
        "    'Product Name': ['Product A', 'Product B', 'Product C', 'Product D', 'Product E'],\n",
        "    'Category': ['Electronics', 'Fashion', 'Electronics', 'Home', 'Fashion'],\n",
        "    'Price': [100, 50, 150, 200, 75],\n",
        "    'Rating': [4.5, 4.2, 4.8, 4.1, 4.6]\n",
        "}\n",
        "\n",
        "# Create a DataFrame\n",
        "df = pd.DataFrame(data)\n",
        "\n",
        "# Function to collect product details\n",
        "def collect_product_details():\n",
        "    product_id = int(input(\"Enter Product ID: \"))\n",
        "    product_name = input(\"Enter Product Name: \")\n",
        "    category = input(\"Enter Category: \")\n",
        "    price = float(input(\"Enter Price: \"))\n",
        "    rating = float(input(\"Enter Rating: \"))\n",
        "\n",
        "    return {\n",
        "        'Product ID': product_id,\n",
        "        'Product Name': product_name,\n",
        "        'Category': category,\n",
        "        'Price': price,\n",
        "        'Rating': rating\n",
        "    }\n",
        "# Function to analyze product details and recommend products\n",
        "def analyze_and_recommend(product_details):\n",
        "    # Filter products by category\n",
        "    filtered_products = df[df['Category'] == product_details['Category']]\n",
        "\n",
        "    # Sort products by rating and price\n",
        "    sorted_products = filtered_products.sort_values(by=['Rating', 'Price'], ascending=False)\n",
        "\n",
        "    # Recommend top 3 products\n",
        "    recommended_products = sorted_products.head(3)\n",
        "\n",
        "    return recommended_products\n",
        "\n",
        "# Main function\n",
        "def main():\n",
        "    product_details = collect_product_details()\n",
        "    recommended_products = analyze_and_recommend(product_details)\n",
        "\n",
        "    print(\"Recommended Products:\")\n",
        "    print(recommended_products)\n",
        "\n",
        "if __name__ == \"__main__\":\n",
        "    main()\n",
        "\n",
        "\n"
      ],
      "metadata": {
        "colab": {
          "base_uri": "https://localhost:8080/"
        },
        "id": "ibDdemcrEgYw",
        "outputId": "b7127484-ba2c-43e4-c268-a9d98c22b3bf"
      },
      "execution_count": 11,
      "outputs": [
        {
          "output_type": "stream",
          "name": "stdout",
          "text": [
            "Enter Product ID: 6\n",
            "Enter Product Name: Product F\n",
            "Enter Category: Electronics\n",
            "Enter Price: 120\n",
            "Enter Rating: 4.4\n",
            "Recommended Products:\n",
            "   Product ID Product Name     Category  Price  Rating\n",
            "2           3    Product C  Electronics    150     4.8\n",
            "0           1    Product A  Electronics    100     4.5\n"
          ]
        }
      ]
    }
  ]
}